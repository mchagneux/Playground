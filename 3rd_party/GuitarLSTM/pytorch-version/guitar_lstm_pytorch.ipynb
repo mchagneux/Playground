{
 "cells": [
  {
   "cell_type": "code",
   "execution_count": 1,
   "metadata": {},
   "outputs": [],
   "source": [
    "import numpy as np\n",
    "import scipy as sp\n",
    "\n",
    "import torch\n",
    "from torch import nn\n",
    "import torchinfo\n",
    "import os"
   ]
  },
  {
   "cell_type": "markdown",
   "metadata": {},
   "source": [
    "## Choose computation device (CPU)"
   ]
  },
  {
   "cell_type": "code",
   "execution_count": 2,
   "metadata": {},
   "outputs": [
    {
     "name": "stdout",
     "output_type": "stream",
     "text": [
      "MPS device not found.\n",
      "Using cpu device\n"
     ]
    }
   ],
   "source": [
    "if torch.backends.mps.is_available():\n",
    "    mps_device = torch.device(\"mps\")\n",
    "    x = torch.ones(1, device=mps_device)\n",
    "    print (\"MPS device found.\")\n",
    "else:\n",
    "    print (\"MPS device not found.\")\n",
    "\n",
    "cpu_device = torch.device(\"cpu\")\n",
    "    \n",
    "# Select the device for training\n",
    "device = cpu_device\n",
    "\n",
    "print(f\"Using {device} device\")"
   ]
  },
  {
   "cell_type": "markdown",
   "metadata": {},
   "source": [
    "## User inputs"
   ]
  },
  {
   "cell_type": "code",
   "execution_count": 3,
   "metadata": {},
   "outputs": [
    {
     "name": "stdout",
     "output_type": "stream",
     "text": [
      "A model with the same name already exists. Please choose a new name.\n"
     ]
    }
   ],
   "source": [
    "# EDIT THIS SECTION FOR USER INPUTS\n",
    "#\n",
    "name = 'model_0'\n",
    "in_file = '../data/ts9_test1_in_FP32.wav'\n",
    "out_file = '../data/ts9_test1_out_FP32.wav'\n",
    "epochs = 1\n",
    "\n",
    "train_mode = 0     # 0 = speed training, \n",
    "                   # 1 = accuracy training \n",
    "                   # 2 = extended training\n",
    "\n",
    "input_size = 150 \n",
    "batch_size = 4096 \n",
    "test_size = 0.2\n",
    "\n",
    "if not os.path.exists('models/'+name):\n",
    "    os.makedirs('models/'+name)\n",
    "else:\n",
    "    print(\"A model with the same name already exists. Please choose a new name.\")\n",
    "    exit"
   ]
  },
  {
   "cell_type": "markdown",
   "metadata": {},
   "source": [
    "## Define some helper functions"
   ]
  },
  {
   "cell_type": "code",
   "execution_count": 4,
   "metadata": {},
   "outputs": [],
   "source": [
    "def save_wav(name, data):\n",
    "    sp.io.wavfile.write(name, 44100, data.flatten().astype(np.float32))\n",
    "\n",
    "def normalize(data):\n",
    "    data_max = max(data)\n",
    "    data_min = min(data)\n",
    "    data_norm = max(data_max,abs(data_min))\n",
    "    return data / data_norm"
   ]
  },
  {
   "cell_type": "markdown",
   "metadata": {},
   "source": [
    "## Pre-processing the data"
   ]
  },
  {
   "cell_type": "code",
   "execution_count": 5,
   "metadata": {},
   "outputs": [
    {
     "name": "stdout",
     "output_type": "stream",
     "text": [
      "X_training shape (pre-processing): (6587907,)\n",
      "y_training shape (pre-processing): (6587907,)\n",
      "X_testing shape (pre-processing): (1646977,)\n",
      "y_testing shape (pre-processing): (1646977,)\n",
      "X_ordered_training shape: torch.Size([6587758, 1, 150])\n",
      "X_ordered_testing shape: torch.Size([1646828, 1, 150])\n",
      "y_ordered_training shape: torch.Size([6587758, 1])\n",
      "y_ordered_testing shape: torch.Size([1646828, 1])\n",
      "The X_ordered_training data is an array, where each element is an array of input_size samples in time order. Therefore the lenght is smaller than the original X_training array (the first 150 samples are grouped).\n",
      "The y_ordered_training data is an array, where each element is a single sample. This single sample is the target output for the corresponding X_random_training element, which consists of input samples.\n"
     ]
    }
   ],
   "source": [
    "# Load and Preprocess Data ###########################################\n",
    "in_rate, in_data = sp.io.wavfile.read(in_file)\n",
    "out_rate, out_data = sp.io.wavfile.read(out_file)\n",
    "\n",
    "X_all = in_data.astype(np.float32).flatten()  \n",
    "X_all = normalize(X_all)\n",
    "y_all = out_data.astype(np.float32).flatten() \n",
    "y_all = normalize(y_all)\n",
    "\n",
    "# Get the last 20% of the wav data for testing and thee rest for training\n",
    "X_training, X_testing = np.split(X_all, [int(len(X_all)*(1-test_size))])\n",
    "y_training, y_testing = np.split(y_all, [int(len(y_all)*(1-test_size))])\n",
    "print(f\"X_training shape (pre-processing): {X_training.shape}\")\n",
    "print(f\"y_training shape (pre-processing): {y_training.shape}\")\n",
    "print(f\"X_testing shape (pre-processing): {X_testing.shape}\")\n",
    "print(f\"y_testing shape (pre-processing): {y_testing.shape}\")\n",
    "\n",
    "# Create a new array where each element is an array of input_size samples in time order\n",
    "# Each element of the new array is shifted by one sample from the previous element\n",
    "indices = np.arange(input_size) + np.arange(len(X_training)-input_size+1)[:,np.newaxis]\n",
    "indices = torch.from_numpy(indices)\n",
    "X_training = torch.from_numpy(X_training)\n",
    "X_ordered_training = torch.zeros_like(indices, dtype=torch.float32)\n",
    "for i, j in enumerate(indices):\n",
    "    X_ordered_training[i] = torch.gather(X_training, 0, indices[i])\n",
    "X_ordered_training = X_ordered_training.unsqueeze(1)\n",
    "print(f\"X_ordered_training shape: {X_ordered_training.shape}\")\n",
    "\n",
    "indices = np.arange(input_size) + np.arange(len(X_testing)-input_size+1)[:,np.newaxis]\n",
    "indices = torch.from_numpy(indices)\n",
    "X_testing = torch.from_numpy(X_testing)\n",
    "X_ordered_testing = torch.zeros_like(indices, dtype=torch.float32)\n",
    "for i, j in enumerate(indices):\n",
    "    X_ordered_testing[i] = torch.gather(X_testing, 0, indices[i])\n",
    "X_ordered_testing = X_ordered_testing.unsqueeze(1)\n",
    "print(f\"X_ordered_testing shape: {X_ordered_testing.shape}\")\n",
    "\n",
    "\n",
    "# The input size defines the number of samples used for each prediction\n",
    "# Therefore the first output value that we get is at index input_size-1\n",
    "y_ordered_training = y_training[input_size-1:]\n",
    "y_ordered_training = torch.from_numpy(y_ordered_training)\n",
    "y_ordered_training = y_ordered_training.unsqueeze(1)\n",
    "print(f\"y_ordered_training shape: {y_ordered_training.shape}\")\n",
    "\n",
    "y_ordered_testing = y_testing[input_size-1:]\n",
    "y_ordered_testing = torch.from_numpy(y_ordered_testing)\n",
    "y_ordered_testing = y_ordered_testing.unsqueeze(1)\n",
    "print(f\"y_ordered_testing shape: {y_ordered_testing.shape}\")\n",
    "\n",
    "print(f\"The X_ordered_training data is an array, where each element is an array of input_size samples in time order. Therefore the lenght is smaller than the original X_training array (the first {input_size} samples are grouped).\")\n",
    "print(f\"The y_ordered_training data is an array, where each element is a single sample. This single sample is the target output for the corresponding X_random_training element, which consists of input samples.\")"
   ]
  },
  {
   "cell_type": "markdown",
   "metadata": {},
   "source": [
    "## Create dataloaders"
   ]
  },
  {
   "cell_type": "code",
   "execution_count": 6,
   "metadata": {},
   "outputs": [
    {
     "name": "stdout",
     "output_type": "stream",
     "text": [
      "Batch: 0\n",
      "Shape of X: torch.Size([4096, 1, 150])\n",
      "Shape of y: torch.Size([4096, 1]) torch.float32\n",
      "Batch: 0\n",
      "Shape of X: torch.Size([4096, 1, 150])\n",
      "Shape of y: torch.Size([4096, 1]) torch.float32\n"
     ]
    }
   ],
   "source": [
    "training_dataset = torch.utils.data.TensorDataset(X_ordered_training, y_ordered_training)\n",
    "training_dataloader = torch.utils.data.DataLoader(training_dataset, batch_size=batch_size, shuffle=True)\n",
    "\n",
    "for batch, (X, y) in enumerate(training_dataloader):\n",
    "    print(f\"Batch: {batch}\")\n",
    "    print(f\"Shape of X: {X.shape}\")\n",
    "    print(f\"Shape of y: {y.shape} {y.dtype}\")\n",
    "    break\n",
    "\n",
    "testing_dataset = torch.utils.data.TensorDataset(X_ordered_testing, y_ordered_testing)\n",
    "testing_dataloader = torch.utils.data.DataLoader(testing_dataset, batch_size=batch_size, shuffle=False)\n",
    "\n",
    "for batch, (X, y) in enumerate(testing_dataloader):\n",
    "    print(f\"Batch: {batch}\")\n",
    "    print(f\"Shape of X: {X.shape}\")\n",
    "    print(f\"Shape of y: {y.shape} {y.dtype}\")\n",
    "    break"
   ]
  },
  {
   "cell_type": "markdown",
   "metadata": {},
   "source": [
    "## Define the model"
   ]
  },
  {
   "cell_type": "code",
   "execution_count": 7,
   "metadata": {},
   "outputs": [
    {
     "name": "stdout",
     "output_type": "stream",
     "text": [
      "==========================================================================================\n",
      "Layer (type:depth-idx)                   Output Shape              Param #\n",
      "==========================================================================================\n",
      "NeuralNetwork                            [1, 1]                    --\n",
      "├─ConstantPad1d: 1-1                     [1, 1, 174]               --\n",
      "├─Conv1d: 1-2                            [1, 16, 14]               208\n",
      "├─ConstantPad1d: 1-3                     [1, 16, 38]               --\n",
      "├─Conv1d: 1-4                            [1, 16, 3]                3,088\n",
      "├─LSTM: 1-5                              [1, 3, 36]                7,776\n",
      "├─Linear: 1-6                            [1, 1]                    37\n",
      "==========================================================================================\n",
      "Total params: 11,109\n",
      "Trainable params: 11,109\n",
      "Non-trainable params: 0\n",
      "Total mult-adds (Units.MEGABYTES): 0.04\n",
      "==========================================================================================\n",
      "Input size (MB): 0.00\n",
      "Forward/backward pass size (MB): 0.00\n",
      "Params size (MB): 0.04\n",
      "Estimated Total Size (MB): 0.05\n",
      "==========================================================================================\n"
     ]
    }
   ],
   "source": [
    "'''This is a similar PyTorch implementation of the LSTM model from the paper:\n",
    "    \"Real-Time Guitar Amplifier Emulation with Deep Learning\"\n",
    "    https://www.mdpi.com/2076-3417/10/3/766/htm\n",
    "\n",
    "    Uses a stack of two 1-D Convolutional layers, followed by LSTM, followed by \n",
    "    a Dense (fully connected) layer. Three preset training modes are available, \n",
    "    with further customization by editing the code. A PyTorch model \n",
    "    is implemented here.\n",
    "\n",
    "    Note: RAM may be a limiting factor for the parameter \"input_size\". The wav data\n",
    "      is preprocessed and stored in RAM, which improves training speed but quickly runs out\n",
    "      if using a large number for \"input_size\".  Reduce this if you are experiencing\n",
    "      RAM issues.\n",
    "'''\n",
    "\n",
    "if train_mode == 0:         # Speed Training\n",
    "    learning_rate = 0.01 \n",
    "    conv1d_strides = 12   \n",
    "    conv1d_1_strides = 12\n",
    "    conv1d_filters = 16\n",
    "    hidden_units = 36\n",
    "elif train_mode == 1:       # Accuracy Training (~10x longer than Speed Training)\n",
    "    learning_rate = 0.01 \n",
    "    conv1d_strides = 4\n",
    "    conv1d_filters = 36\n",
    "    hidden_units= 64\n",
    "else:                       # Extended Training (~60x longer than Accuracy Training)\n",
    "    learning_rate = 0.0005 \n",
    "    conv1d_strides = 3\n",
    "    conv1d_filters = 36\n",
    "    hidden_units= 96\n",
    "\n",
    "# Define model ########################################################\n",
    "class NeuralNetwork(nn.Module):\n",
    "    def __init__(self):\n",
    "        super().__init__()\n",
    "        self.pad = nn.ConstantPad1d(padding=12, value=0)\n",
    "        self.conv1 = nn.Conv1d(in_channels=1, out_channels=conv1d_filters, kernel_size=12, stride=conv1d_strides)\n",
    "        self.conv2 = nn.Conv1d(in_channels=conv1d_filters, out_channels=conv1d_filters, kernel_size=12, stride=conv1d_strides)\n",
    "        self.lstm = nn.LSTM(input_size=16, hidden_size=hidden_units, batch_first = True, bias=True)\n",
    "        self.linear = nn.Linear(in_features=hidden_units, out_features=1)\n",
    "\n",
    "    def forward(self, x):\n",
    "        x = self.pad(x)\n",
    "        x = self.conv1(x)\n",
    "        x = self.pad(x)\n",
    "        x = self.conv2(x)\n",
    "        x = x.permute(0, 2, 1)\n",
    "        output, (hidden, cell) =  self.lstm(x)\n",
    "        x = self.linear(output[:, -1, :])\n",
    "        return x\n",
    "\n",
    "model = NeuralNetwork().to(device)\n",
    "summary = torchinfo.summary(model, (1, 1, 150), device=device)\n",
    "print(summary)\n",
    "\n",
    "# Define loss function and optimizer ##################################\n",
    "loss_fn = nn.MSELoss(reduction='mean')\n",
    "optimizer = torch.optim.Adam(model.parameters(), lr=learning_rate)"
   ]
  },
  {
   "cell_type": "code",
   "execution_count": 8,
   "metadata": {},
   "outputs": [],
   "source": [
    "# Define training procedure ############################################\n",
    "def train(dataloader, model, loss_fn, optimizer):\n",
    "    size = len(dataloader.dataset)\n",
    "    model.train()\n",
    "    for batch, (X, y) in enumerate(dataloader):\n",
    "        # Preprocess input and target data\n",
    "        X, y = X.to(device), y.to(device)\n",
    "\n",
    "        # Compute prediction error\n",
    "        pred = model(X)\n",
    "        loss = loss_fn(pred, y)\n",
    "\n",
    "        # Backpropagation\n",
    "        loss.backward()\n",
    "        optimizer.step()\n",
    "        optimizer.zero_grad()\n",
    "\n",
    "        if batch % 100 == 0:\n",
    "            loss, current = loss.item(), (batch + 1) * len(X)\n",
    "            print(f\"loss: {loss:>7f}  [{current:>5d}/{size:>5d}]\")\n",
    "\n",
    "# Define training procedure ############################################\n",
    "def test(dataloader, model, loss_fn):\n",
    "    num_batches = len(dataloader)\n",
    "    model.eval()\n",
    "    test_loss = 0\n",
    "    with torch.no_grad():\n",
    "        for X, y in dataloader:\n",
    "            X, y = X.to(device), y.to(device)\n",
    "            pred = model(X)\n",
    "            test_loss += loss_fn(pred, y).item()\n",
    "    test_loss /= num_batches\n",
    "    print(f\"Test Error: \\n Avg loss: {test_loss:>8f} \\n\")"
   ]
  },
  {
   "cell_type": "markdown",
   "metadata": {},
   "source": [
    "## Train the model"
   ]
  },
  {
   "cell_type": "code",
   "execution_count": 9,
   "metadata": {},
   "outputs": [
    {
     "name": "stdout",
     "output_type": "stream",
     "text": [
      "Epoch 1\n",
      "-------------------------------\n",
      "loss: 0.030668  [ 4096/6587758]\n",
      "loss: 0.001876  [413696/6587758]\n",
      "loss: 0.000879  [823296/6587758]\n",
      "loss: 0.000736  [1232896/6587758]\n",
      "loss: 0.000589  [1642496/6587758]\n",
      "loss: 0.000537  [2052096/6587758]\n",
      "loss: 0.000478  [2461696/6587758]\n",
      "loss: 0.000447  [2871296/6587758]\n",
      "loss: 0.000449  [3280896/6587758]\n",
      "loss: 0.000381  [3690496/6587758]\n",
      "loss: 0.000383  [4100096/6587758]\n",
      "loss: 0.000381  [4509696/6587758]\n",
      "loss: 0.000355  [4919296/6587758]\n",
      "loss: 0.000361  [5328896/6587758]\n",
      "loss: 0.000334  [5738496/6587758]\n",
      "loss: 0.000329  [6148096/6587758]\n",
      "loss: 0.000337  [6557696/6587758]\n",
      "Test Error: \n",
      " Avg loss: 0.000272 \n",
      "\n",
      "Done!\n"
     ]
    }
   ],
   "source": [
    "for t in range(epochs):\n",
    "    print(f\"Epoch {t+1}\\n-------------------------------\")\n",
    "    train(training_dataloader, model, loss_fn, optimizer)\n",
    "    test(testing_dataloader, model, loss_fn)\n",
    "print(\"Done!\")"
   ]
  },
  {
   "cell_type": "code",
   "execution_count": 10,
   "metadata": {},
   "outputs": [
    {
     "name": "stdout",
     "output_type": "stream",
     "text": [
      "Saved PyTorch Model State to model.pth\n"
     ]
    }
   ],
   "source": [
    "# Save the model #######################################################\n",
    "torch.save(model.state_dict(), \"models/\"+name+\"/\"+name+\".pth\")\n",
    "print(\"Saved PyTorch Model State to model.pth\")"
   ]
  },
  {
   "cell_type": "markdown",
   "metadata": {},
   "source": [
    "## Run predictions\n",
    "### 0. Load the model"
   ]
  },
  {
   "cell_type": "code",
   "execution_count": 11,
   "metadata": {},
   "outputs": [
    {
     "data": {
      "text/plain": [
       "<All keys matched successfully>"
      ]
     },
     "execution_count": 11,
     "metadata": {},
     "output_type": "execute_result"
    }
   ],
   "source": [
    "model.load_state_dict(torch.load(\"models/\"+name+\"/\"+name+\".pth\", map_location=torch.device('cpu')))"
   ]
  },
  {
   "cell_type": "markdown",
   "metadata": {},
   "source": [
    "### 1. On the test audio data"
   ]
  },
  {
   "cell_type": "code",
   "execution_count": 12,
   "metadata": {},
   "outputs": [
    {
     "name": "stdout",
     "output_type": "stream",
     "text": [
      "Running prediction..\n",
      "X_testing shape:  torch.Size([1646977])\n",
      "X_ordered_testing shape:  torch.Size([1646828, 1, 150])\n",
      "y_testing shape:  (1646977,)\n",
      "prediction shape:  torch.Size([1646828])\n",
      "Note that the prediction shape is smaller than the y_testing shape. This is because the first predicted sample needs input_size samples for prediction.\n",
      "\n"
     ]
    }
   ],
   "source": [
    "# Set the model to evaluate mode #################################\n",
    "model.eval()\n",
    "# Run prediction ##################################################\n",
    "prediction = torch.zeros(0).to(device)\n",
    "# X_input = torch.zeros(0).to(device)\n",
    "\n",
    "# for X, _ in testing_dataloader:\n",
    "#     X = X.to(device)\n",
    "#     for i in range(X.shape[0]):\n",
    "#         X_input = torch.cat((X_input, X[i, 0, 0].flatten()), 0)\n",
    "\n",
    "# save_wav('models/'+name+'/x_input.wav', X_input.cpu().numpy())\n",
    "\n",
    "print(\"Running prediction..\")\n",
    "with torch.no_grad():\n",
    "    for X, _ in testing_dataloader:\n",
    "        X = X.to(device)\n",
    "        predicted_batch = model(X)\n",
    "        prediction = torch.cat((prediction, predicted_batch.flatten()), 0)\n",
    "\n",
    "save_wav('models/'+name+'/y_pred.wav', prediction.cpu().numpy())\n",
    "save_wav('models/'+name+'/x_test.wav', X_testing.numpy())\n",
    "save_wav('models/'+name+'/y_test.wav', y_testing)\n",
    "\n",
    "print(\"X_testing shape: \", X_testing.shape)\n",
    "print(\"X_ordered_testing shape: \", X_ordered_testing.shape)\n",
    "print(\"y_testing shape: \", y_testing.shape)\n",
    "print(\"prediction shape: \", prediction.shape)\n",
    "\n",
    "print(\"Note that the prediction shape is smaller than the y_testing shape. This is because the first predicted sample needs input_size samples for prediction.\\n\")\n"
   ]
  },
  {
   "cell_type": "markdown",
   "metadata": {},
   "source": [
    "### 2. On a number sequence (to control inference)"
   ]
  },
  {
   "cell_type": "code",
   "execution_count": 13,
   "metadata": {},
   "outputs": [
    {
     "name": "stdout",
     "output_type": "stream",
     "text": [
      "X_testing_2 shape: torch.Size([2, 1, 150])\n",
      "Running prediction..\n",
      "prediction tensor([[-0.1476],\n",
      "        [-0.3037]], grad_fn=<AddmmBackward0>)\n",
      "X_testing_2 shape:  torch.Size([2, 1, 150])\n",
      "prediction_2 shape:  torch.Size([2, 1])\n"
     ]
    }
   ],
   "source": [
    "batch_size_test = 2\n",
    "\n",
    "# Test the model simple number sequence to compare with inference #\n",
    "X_testing_2 = np.array([], dtype=np.float64)\n",
    "\n",
    "for i in range(0, batch_size_test * input_size):\n",
    "    X_testing_2 = np.append(X_testing_2, i*0.001)\n",
    "\n",
    "X_testing_2 = np.expand_dims(X_testing_2, axis=0)\n",
    "X_testing_2 = np.expand_dims(X_testing_2, axis=0)\n",
    "X_testing_2 = np.reshape(X_testing_2, (batch_size_test, 1, input_size))\n",
    "\n",
    "X_testing_2 = torch.from_numpy(X_testing_2).double()\n",
    "\n",
    "print(f\"X_testing_2 shape: {X_testing_2.shape}\")\n",
    "\n",
    "print(\"Running prediction..\")\n",
    "model = model.float()\n",
    "\n",
    "prediction_2 = model(X_testing_2.to(device).float())\n",
    "\n",
    "print(f\"prediction {prediction_2}\")\n",
    "\n",
    "print(\"X_testing_2 shape: \", X_testing_2.shape)\n",
    "print(\"prediction_2 shape: \", prediction_2.shape)"
   ]
  },
  {
   "cell_type": "markdown",
   "metadata": {},
   "source": [
    "## Export as pt model"
   ]
  },
  {
   "cell_type": "code",
   "execution_count": 14,
   "metadata": {},
   "outputs": [],
   "source": [
    "# An example input you would normally provide to your model's forward() method.\n",
    "example = torch.rand(1, 1, input_size).to(device)\n",
    "\n",
    "# Use torch.jit.trace to generate a torch.jit.ScriptModule via tracing.\n",
    "traced_script_module = torch.jit.trace(model, example)\n",
    "traced_script_module.save(\"models/\"+name+\"/\"+\"GuitarLSTM-dynamic.pt\")"
   ]
  },
  {
   "cell_type": "code",
   "execution_count": 15,
   "metadata": {},
   "outputs": [
    {
     "name": "stderr",
     "output_type": "stream",
     "text": [
      "/home/faressc/tu-studio/anira-default-models/GuitarLSTM/venv/lib/python3.11/site-packages/torch/onnx/_internal/jit_utils.py:307: UserWarning: Constant folding - Only steps=1 can be constant folded for opset >= 10 onnx::Slice op. Constant folding not applied. (Triggered internally at ../torch/csrc/jit/passes/onnx/constant_fold.cpp:179.)\n",
      "  _C._jit_pass_onnx_node_shape_type_inference(node, params_dict, opset_version)\n",
      "/home/faressc/tu-studio/anira-default-models/GuitarLSTM/venv/lib/python3.11/site-packages/torch/onnx/symbolic_opset9.py:4662: UserWarning: Exporting a model to ONNX with a batch_size other than 1, with a variable length with LSTM can cause an error when running the ONNX model with a different batch size. Make sure to save the model with a batch size of 1, or define the initial states (h0/c0) as inputs of the model. \n",
      "  warnings.warn(\n",
      "/home/faressc/tu-studio/anira-default-models/GuitarLSTM/venv/lib/python3.11/site-packages/torch/onnx/utils.py:702: UserWarning: Constant folding - Only steps=1 can be constant folded for opset >= 10 onnx::Slice op. Constant folding not applied. (Triggered internally at ../torch/csrc/jit/passes/onnx/constant_fold.cpp:179.)\n",
      "  _C._jit_pass_onnx_graph_shape_type_inference(\n",
      "/home/faressc/tu-studio/anira-default-models/GuitarLSTM/venv/lib/python3.11/site-packages/torch/onnx/utils.py:1209: UserWarning: Constant folding - Only steps=1 can be constant folded for opset >= 10 onnx::Slice op. Constant folding not applied. (Triggered internally at ../torch/csrc/jit/passes/onnx/constant_fold.cpp:179.)\n",
      "  _C._jit_pass_onnx_graph_shape_type_inference(\n"
     ]
    }
   ],
   "source": [
    "# An example input you would normally provide to your model's forward() method.\n",
    "example = torch.rand(1, 1, input_size).to(device)\n",
    "filepath = \"models/\"+name+\"/\"+\"GuitarLSTM\"+\"-libtorch-dynamic.onnx\"\n",
    "\n",
    "# Export the model\n",
    "torch.onnx.export(model=model,\n",
    "                  args=example,\n",
    "                  f=filepath,\n",
    "                  export_params=True,\n",
    "                  opset_version=17,\n",
    "                  do_constant_folding=True,\n",
    "                  input_names = ['input'],\n",
    "                  output_names = ['output'],\n",
    "                  dynamic_axes={'input' : {0 : 'batch_size'}, 'output' : {0 : 'batch_size'}})"
   ]
  }
 ],
 "metadata": {
  "kernelspec": {
   "display_name": "venv",
   "language": "python",
   "name": "python3"
  },
  "language_info": {
   "codemirror_mode": {
    "name": "ipython",
    "version": 3
   },
   "file_extension": ".py",
   "mimetype": "text/x-python",
   "name": "python",
   "nbconvert_exporter": "python",
   "pygments_lexer": "ipython3",
   "version": "3.11.8"
  },
  "orig_nbformat": 4
 },
 "nbformat": 4,
 "nbformat_minor": 2
}
